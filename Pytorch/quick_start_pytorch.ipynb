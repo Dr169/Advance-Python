{
 "cells": [
  {
   "cell_type": "code",
   "execution_count": 1,
   "metadata": {},
   "outputs": [],
   "source": [
    "import torch\n",
    "from torch import nn\n",
    "from torch.utils.data import DataLoader\n",
    "from torchvision import datasets\n",
    "from torchvision.transforms import ToTensor"
   ]
  },
  {
   "attachments": {},
   "cell_type": "markdown",
   "metadata": {},
   "source": [
    "### Working with data"
   ]
  },
  {
   "cell_type": "code",
   "execution_count": 2,
   "metadata": {},
   "outputs": [
    {
     "name": "stdout",
     "output_type": "stream",
     "text": [
      "Shape of X [N, C, H, W]: torch.Size([64, 1, 28, 28])\n",
      "Shape of y: torch.Size([64]) torch.int64\n"
     ]
    }
   ],
   "source": [
    "training_data = datasets.FashionMNIST(\n",
    "    root=\"data\",\n",
    "    train=True,\n",
    "    download=True,\n",
    "    transform=ToTensor(),\n",
    ")\n",
    "\n",
    "test_data = datasets.FashionMNIST(\n",
    "    root=\"data\",\n",
    "    train=False,\n",
    "    download=True,\n",
    "    transform=ToTensor(),\n",
    ")\n",
    "\n",
    "batch_size = 64\n",
    "\n",
    "train_dataloader = DataLoader(training_data, batch_size=batch_size)\n",
    "test_dataloader = DataLoader(test_data, batch_size=batch_size)\n",
    "\n",
    "for x, y in test_dataloader:\n",
    "    print(f\"Shape of X [N, C, H, W]: {x.shape}\")\n",
    "    print(f\"Shape of y: {y.shape} {y.dtype}\")\n",
    "    break"
   ]
  },
  {
   "attachments": {},
   "cell_type": "markdown",
   "metadata": {},
   "source": [
    "### Creating Models"
   ]
  },
  {
   "cell_type": "code",
   "execution_count": 3,
   "metadata": {},
   "outputs": [
    {
     "name": "stdout",
     "output_type": "stream",
     "text": [
      "Using cuda device\n",
      "NeuralNetwork(\n",
      "  (flatten): Flatten(start_dim=1, end_dim=-1)\n",
      "  (linear_relu_stack): Sequential(\n",
      "    (0): Linear(in_features=784, out_features=512, bias=True)\n",
      "    (1): ReLU()\n",
      "    (2): Linear(in_features=512, out_features=512, bias=True)\n",
      "    (3): ReLU()\n",
      "    (4): Linear(in_features=512, out_features=10, bias=True)\n",
      "  )\n",
      ")\n"
     ]
    }
   ],
   "source": [
    "device = (\n",
    "    \"cuda\"\n",
    "    if torch.cuda.is_available()\n",
    "    else \"mps\"\n",
    "    if torch.backends.mps.is_available()\n",
    "    else \"cpu\"\n",
    ")\n",
    "print(f\"Using {device} device\")\n",
    "\n",
    "class NeuralNetwork(nn.Module):\n",
    "    def __init__(self):\n",
    "        super().__init__()\n",
    "        self.flatten = nn.Flatten()\n",
    "        self.linear_relu_stack = nn.Sequential(\n",
    "            nn.Linear(28*28, 512),\n",
    "            nn.ReLU(),\n",
    "            nn.Linear(512, 512),\n",
    "            nn.ReLU(),\n",
    "            nn.Linear(512, 10)\n",
    "        )\n",
    "\n",
    "    def forward(self, x):\n",
    "        x = self.flatten(x)\n",
    "        logits = self.linear_relu_stack(x)\n",
    "        return logits\n",
    "\n",
    "model = NeuralNetwork().to(device)\n",
    "print(model)"
   ]
  },
  {
   "attachments": {},
   "cell_type": "markdown",
   "metadata": {},
   "source": [
    "### Optimizing the Model Parameters"
   ]
  },
  {
   "cell_type": "code",
   "execution_count": 4,
   "metadata": {},
   "outputs": [
    {
     "name": "stdout",
     "output_type": "stream",
     "text": [
      "Epoch 1\n",
      "-------------------------------\n",
      "loss: 2.300644  [   64/60000]\n",
      "loss: 2.288516  [ 6464/60000]\n",
      "loss: 2.269031  [12864/60000]\n",
      "loss: 2.262770  [19264/60000]\n",
      "loss: 2.240410  [25664/60000]\n",
      "loss: 2.218128  [32064/60000]\n",
      "loss: 2.227308  [38464/60000]\n",
      "loss: 2.191648  [44864/60000]\n",
      "loss: 2.194990  [51264/60000]\n",
      "loss: 2.158742  [57664/60000]\n",
      "Test Error: \n",
      " Accuracy: 45.8%, Avg loss: 2.150130 \n",
      "\n",
      "Epoch 2\n",
      "-------------------------------\n",
      "loss: 2.163202  [   64/60000]\n",
      "loss: 2.148046  [ 6464/60000]\n",
      "loss: 2.086848  [12864/60000]\n",
      "loss: 2.101247  [19264/60000]\n",
      "loss: 2.045151  [25664/60000]\n",
      "loss: 2.000037  [32064/60000]\n",
      "loss: 2.023163  [38464/60000]\n",
      "loss: 1.943094  [44864/60000]\n",
      "loss: 1.960199  [51264/60000]\n",
      "loss: 1.880923  [57664/60000]\n",
      "Test Error: \n",
      " Accuracy: 56.8%, Avg loss: 1.872812 \n",
      "\n",
      "Epoch 3\n",
      "-------------------------------\n",
      "loss: 1.912014  [   64/60000]\n",
      "loss: 1.873255  [ 6464/60000]\n",
      "loss: 1.753334  [12864/60000]\n",
      "loss: 1.792028  [19264/60000]\n",
      "loss: 1.683036  [25664/60000]\n",
      "loss: 1.648602  [32064/60000]\n",
      "loss: 1.661534  [38464/60000]\n",
      "loss: 1.563413  [44864/60000]\n",
      "loss: 1.600467  [51264/60000]\n",
      "loss: 1.492886  [57664/60000]\n",
      "Test Error: \n",
      " Accuracy: 61.5%, Avg loss: 1.506546 \n",
      "\n",
      "Epoch 4\n",
      "-------------------------------\n",
      "loss: 1.579115  [   64/60000]\n",
      "loss: 1.538195  [ 6464/60000]\n",
      "loss: 1.390066  [12864/60000]\n",
      "loss: 1.456541  [19264/60000]\n",
      "loss: 1.340526  [25664/60000]\n",
      "loss: 1.347397  [32064/60000]\n",
      "loss: 1.347822  [38464/60000]\n",
      "loss: 1.275702  [44864/60000]\n",
      "loss: 1.321392  [51264/60000]\n",
      "loss: 1.221802  [57664/60000]\n",
      "Test Error: \n",
      " Accuracy: 63.4%, Avg loss: 1.245118 \n",
      "\n",
      "Epoch 5\n",
      "-------------------------------\n",
      "loss: 1.327500  [   64/60000]\n",
      "loss: 1.303514  [ 6464/60000]\n",
      "loss: 1.140404  [12864/60000]\n",
      "loss: 1.240096  [19264/60000]\n",
      "loss: 1.116601  [25664/60000]\n",
      "loss: 1.149663  [32064/60000]\n",
      "loss: 1.158421  [38464/60000]\n",
      "loss: 1.098576  [44864/60000]\n",
      "loss: 1.148448  [51264/60000]\n",
      "loss: 1.066733  [57664/60000]\n",
      "Test Error: \n",
      " Accuracy: 64.8%, Avg loss: 1.083197 \n",
      "\n",
      "Epoch 6\n",
      "-------------------------------\n",
      "loss: 1.159072  [   64/60000]\n",
      "loss: 1.156318  [ 6464/60000]\n",
      "loss: 0.976458  [12864/60000]\n",
      "loss: 1.105317  [19264/60000]\n",
      "loss: 0.979417  [25664/60000]\n",
      "loss: 1.016715  [32064/60000]\n",
      "loss: 1.042387  [38464/60000]\n",
      "loss: 0.986287  [44864/60000]\n",
      "loss: 1.034666  [51264/60000]\n",
      "loss: 0.971024  [57664/60000]\n",
      "Test Error: \n",
      " Accuracy: 65.9%, Avg loss: 0.978689 \n",
      "\n",
      "Epoch 7\n",
      "-------------------------------\n",
      "loss: 1.041197  [   64/60000]\n",
      "loss: 1.061095  [ 6464/60000]\n",
      "loss: 0.864190  [12864/60000]\n",
      "loss: 1.015709  [19264/60000]\n",
      "loss: 0.893007  [25664/60000]\n",
      "loss: 0.922830  [32064/60000]\n",
      "loss: 0.966151  [38464/60000]\n",
      "loss: 0.913192  [44864/60000]\n",
      "loss: 0.955157  [51264/60000]\n",
      "loss: 0.906895  [57664/60000]\n",
      "Test Error: \n",
      " Accuracy: 67.2%, Avg loss: 0.907198 \n",
      "\n",
      "Epoch 8\n",
      "-------------------------------\n",
      "loss: 0.953890  [   64/60000]\n",
      "loss: 0.994769  [ 6464/60000]\n",
      "loss: 0.783626  [12864/60000]\n",
      "loss: 0.951931  [19264/60000]\n",
      "loss: 0.835179  [25664/60000]\n",
      "loss: 0.854150  [32064/60000]\n",
      "loss: 0.911930  [38464/60000]\n",
      "loss: 0.863936  [44864/60000]\n",
      "loss: 0.897336  [51264/60000]\n",
      "loss: 0.860327  [57664/60000]\n",
      "Test Error: \n",
      " Accuracy: 68.4%, Avg loss: 0.855585 \n",
      "\n",
      "Epoch 9\n",
      "-------------------------------\n",
      "loss: 0.886714  [   64/60000]\n",
      "loss: 0.945148  [ 6464/60000]\n",
      "loss: 0.723440  [12864/60000]\n",
      "loss: 0.904254  [19264/60000]\n",
      "loss: 0.794133  [25664/60000]\n",
      "loss: 0.802720  [32064/60000]\n",
      "loss: 0.870350  [38464/60000]\n",
      "loss: 0.829395  [44864/60000]\n",
      "loss: 0.853956  [51264/60000]\n",
      "loss: 0.824494  [57664/60000]\n",
      "Test Error: \n",
      " Accuracy: 69.6%, Avg loss: 0.816477 \n",
      "\n",
      "Epoch 10\n",
      "-------------------------------\n",
      "loss: 0.833006  [   64/60000]\n",
      "loss: 0.905326  [ 6464/60000]\n",
      "loss: 0.676677  [12864/60000]\n",
      "loss: 0.867336  [19264/60000]\n",
      "loss: 0.763089  [25664/60000]\n",
      "loss: 0.763423  [32064/60000]\n",
      "loss: 0.836651  [38464/60000]\n",
      "loss: 0.803730  [44864/60000]\n",
      "loss: 0.820199  [51264/60000]\n",
      "loss: 0.795761  [57664/60000]\n",
      "Test Error: \n",
      " Accuracy: 70.9%, Avg loss: 0.785424 \n",
      "\n",
      "Done!\n"
     ]
    }
   ],
   "source": [
    "loss_fn = nn.CrossEntropyLoss()\n",
    "optimizer = torch.optim.SGD(model.parameters(), lr=1e-3)\n",
    "\n",
    "def train(dataloader, model, loss_fn, optimizer):\n",
    "    size = len(dataloader.dataset)\n",
    "    model.train()\n",
    "    for batch, (x, y) in enumerate(dataloader):\n",
    "        x, y = x.to(device), y.to(device)\n",
    "\n",
    "        # Compute prediction error\n",
    "        pred = model(x)\n",
    "        loss = loss_fn(pred, y)\n",
    "\n",
    "        # Backpropagation\n",
    "        loss.backward()\n",
    "        optimizer.step()\n",
    "        optimizer.zero_grad()\n",
    "\n",
    "        if batch % 100 == 0:\n",
    "            loss, current = loss.item(), (batch + 1) * len(x)\n",
    "            print(f\"loss: {loss:>7f}  [{current:>5d}/{size:>5d}]\")\n",
    "            \n",
    "            \n",
    "def test(dataloader, model, loss_fn):\n",
    "    size = len(dataloader.dataset)\n",
    "    num_batches = len(dataloader)\n",
    "    model.eval()\n",
    "    test_loss, correct = 0, 0\n",
    "    with torch.no_grad():\n",
    "        for x, y in dataloader:\n",
    "            x, y = x.to(device), y.to(device)\n",
    "            pred = model(x)\n",
    "            test_loss += loss_fn(pred, y).item()\n",
    "            correct += (pred.argmax(1) == y).type(torch.float).sum().item()\n",
    "    test_loss /= num_batches\n",
    "    correct /= size\n",
    "    print(f\"Test Error: \\n Accuracy: {(100*correct):>0.1f}%, Avg loss: {test_loss:>8f} \\n\")\n",
    "    \n",
    "epochs = 10\n",
    "for t in range(epochs):\n",
    "    print(f\"Epoch {t+1}\\n-------------------------------\")\n",
    "    train(train_dataloader, model, loss_fn, optimizer)\n",
    "    test(test_dataloader, model, loss_fn)\n",
    "print(\"Done!\")"
   ]
  },
  {
   "attachments": {},
   "cell_type": "markdown",
   "metadata": {},
   "source": [
    "### Saving Model"
   ]
  },
  {
   "cell_type": "code",
   "execution_count": 5,
   "metadata": {},
   "outputs": [
    {
     "name": "stdout",
     "output_type": "stream",
     "text": [
      "Saved PyTorch Model State to model.pth\n"
     ]
    }
   ],
   "source": [
    "torch.save(model.state_dict(), \"model.pth\")\n",
    "print(\"Saved PyTorch Model State to model.pth\")"
   ]
  },
  {
   "attachments": {},
   "cell_type": "markdown",
   "metadata": {},
   "source": [
    "### Loading Model"
   ]
  },
  {
   "cell_type": "code",
   "execution_count": 6,
   "metadata": {},
   "outputs": [
    {
     "name": "stdout",
     "output_type": "stream",
     "text": [
      "Predicted: \"Dress\", Actual: \"Dress\"\n"
     ]
    }
   ],
   "source": [
    "model = NeuralNetwork().to(device)\n",
    "model.load_state_dict(torch.load(\"model.pth\"))\n",
    "\n",
    "classes = [\n",
    "    \"T-shirt/top\",\n",
    "    \"Trouser\",\n",
    "    \"Pullover\",\n",
    "    \"Dress\",\n",
    "    \"Coat\",\n",
    "    \"Sandal\",\n",
    "    \"Shirt\",\n",
    "    \"Sneaker\",\n",
    "    \"Bag\",\n",
    "    \"Ankle boot\",\n",
    "]\n",
    "\n",
    "model.eval()\n",
    "x, y = test_data[13][0], test_data[13][1]\n",
    "with torch.no_grad():\n",
    "    x = x.to(device)\n",
    "    pred = model(x)\n",
    "    predicted, actual = classes[pred[0].argmax(0)], classes[y]\n",
    "    print(f'Predicted: \"{predicted}\", Actual: \"{actual}\"')"
   ]
  },
  {
   "cell_type": "code",
   "execution_count": null,
   "metadata": {},
   "outputs": [],
   "source": []
  }
 ],
 "metadata": {
  "kernelspec": {
   "display_name": "python-env",
   "language": "python",
   "name": "python3"
  },
  "language_info": {
   "codemirror_mode": {
    "name": "ipython",
    "version": 3
   },
   "file_extension": ".py",
   "mimetype": "text/x-python",
   "name": "python",
   "nbconvert_exporter": "python",
   "pygments_lexer": "ipython3",
   "version": "3.10.12"
  },
  "orig_nbformat": 4
 },
 "nbformat": 4,
 "nbformat_minor": 2
}
