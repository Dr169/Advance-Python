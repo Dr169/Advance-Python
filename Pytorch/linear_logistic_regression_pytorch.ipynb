{
 "cells": [
  {
   "attachments": {},
   "cell_type": "markdown",
   "metadata": {},
   "source": [
    "### Linear regression with custom linear regression model & dataset"
   ]
  },
  {
   "cell_type": "code",
   "execution_count": 1,
   "metadata": {},
   "outputs": [
    {
     "name": "stdout",
     "output_type": "stream",
     "text": [
      "prediction before training: f(5) = 4.466\n"
     ]
    },
    {
     "name": "stderr",
     "output_type": "stream",
     "text": [
      "100%|██████████| 100/100 [00:01<00:00, 90.38it/s]"
     ]
    },
    {
     "name": "stdout",
     "output_type": "stream",
     "text": [
      "epoch 0: w = 0.864, loss = 7.462\n",
      "epoch 10: w = 1.492, loss = 0.408\n",
      "epoch 20: w = 1.602, loss = 0.213\n",
      "epoch 30: w = 1.629, loss = 0.196\n",
      "epoch 40: w = 1.643, loss = 0.185\n",
      "epoch 50: w = 1.654, loss = 0.174\n",
      "epoch 60: w = 1.664, loss = 0.164\n",
      "epoch 70: w = 1.674, loss = 0.154\n",
      "epoch 80: w = 1.684, loss = 0.145\n",
      "epoch 90: w = 1.693, loss = 0.137\n",
      "prediction after training: f(5) = 9.385\n"
     ]
    },
    {
     "name": "stderr",
     "output_type": "stream",
     "text": [
      "\n"
     ]
    }
   ],
   "source": [
    "import torch\n",
    "import torch.nn as nn\n",
    "import random\n",
    "from tqdm import tqdm \n",
    "\n",
    "# Generate a numpy array as instances.\n",
    "instances = torch.tensor([[1],[2],[3],[4]], dtype=torch.float32)\n",
    "# Multiply the instances by the weight to generate the Y's.\n",
    "y = instances * 2\n",
    "\n",
    "test_instances = torch.tensor([5], dtype=torch.float32)\n",
    " \n",
    "n_samples, n_features = instances.shape\n",
    "\n",
    "input_size = n_features\n",
    "output_size = n_features\n",
    "\n",
    "# model = nn.Linear(input_size, output_size)\n",
    "\n",
    "class LinearRegression(nn.Module):\n",
    "    def __init__(self,  input_dim, output_dim):\n",
    "        super(LinearRegression, self).__init__()\n",
    "        self.linear = nn.Linear(input_dim, output_dim)\n",
    "        \n",
    "    def forward(self, instance):\n",
    "        return self.linear(instance)\n",
    "        \n",
    "        \n",
    "model = LinearRegression(input_size, output_size) # Custom linear regression model\n",
    "\n",
    "\n",
    "# Number of iterations.\n",
    "epochs = 100\n",
    "learning_rate = 0.01\n",
    "\n",
    "print(f\"prediction before training: f(5) = {model(test_instances).item():.3f}\")\n",
    "\n",
    "loss_function = nn.MSELoss()\n",
    "optimizer = torch.optim.SGD(model.parameters(), lr=learning_rate)\n",
    "\n",
    "for epoch in tqdm(range(epochs)):\n",
    "    y_pred = model(instances)\n",
    "    loss = loss_function(y, y_pred)\n",
    "    loss.backward()\n",
    "    optimizer.step()\n",
    "    optimizer.zero_grad()\n",
    "    \n",
    "    if epoch % 10 == 0:\n",
    "        [weight, b] = model.parameters()\n",
    "        print(f\"epoch {epoch}: w = {weight[0][0].item():.3f}, loss = {loss:.3f}\")\n",
    "    \n",
    "print(f\"prediction after training: f(5) = {model(test_instances).item():.3f}\")"
   ]
  },
  {
   "attachments": {},
   "cell_type": "markdown",
   "metadata": {},
   "source": [
    "### Linear regression with sklearn dataset"
   ]
  },
  {
   "cell_type": "code",
   "execution_count": 2,
   "metadata": {},
   "outputs": [
    {
     "name": "stderr",
     "output_type": "stream",
     "text": [
      "100%|██████████| 100/100 [00:00<00:00, 8135.28it/s]"
     ]
    },
    {
     "name": "stdout",
     "output_type": "stream",
     "text": [
      "epoch: 0, loss = 10241.314\n",
      "epoch: 10, loss = 8505.445\n",
      "epoch: 20, loss = 7263.025\n",
      "epoch: 30, loss = 6372.225\n",
      "epoch: 40, loss = 5732.476\n",
      "epoch: 50, loss = 5272.308\n",
      "epoch: 60, loss = 4940.827\n",
      "epoch: 70, loss = 4701.717\n",
      "epoch: 80, loss = 4529.018\n",
      "epoch: 90, loss = 4404.135\n"
     ]
    },
    {
     "name": "stderr",
     "output_type": "stream",
     "text": [
      "\n"
     ]
    },
    {
     "data": {
      "image/png": "[encoded data removed]",
      "text/plain": [
       "<Figure size 640x480 with 1 Axes>"
      ]
     },
     "metadata": {},
     "output_type": "display_data"
    }
   ],
   "source": [
    "import torch\n",
    "import torch.nn as nn\n",
    "import numpy as np\n",
    "from sklearn import datasets\n",
    "import matplotlib.pyplot as plt\n",
    "from tqdm import tqdm \n",
    "\n",
    "x_numpy, y_numpy = datasets.make_regression(n_samples=100, n_features=1, noise=70, random_state=1)\n",
    "\n",
    "x = torch.from_numpy(x_numpy.astype(np.float32))\n",
    "y = torch.from_numpy(y_numpy.astype(np.float32))\n",
    "y = y.view(y.shape[0],1)\n",
    "\n",
    "n_samples, n_features = x.shape\n",
    "\n",
    "input_size = n_features\n",
    "output_size = 1\n",
    "model = nn.Linear(input_size, output_size)\n",
    "\n",
    "learning_rate = 0.01\n",
    "epochs = 100\n",
    "\n",
    "criterion = nn.MSELoss()\n",
    "optimizer = torch.optim.SGD(model.parameters(), lr=learning_rate)\n",
    "\n",
    "for epoch in tqdm(range(epochs)):\n",
    "    y_pred = model(x)\n",
    "    loss = criterion(y_pred, y)\n",
    "    \n",
    "    loss.backward()\n",
    "    \n",
    "    optimizer.step()\n",
    "    optimizer.zero_grad()\n",
    "    \n",
    "    if epoch % 10 == 0:\n",
    "        print(f\"epoch: {epoch}, loss = {loss.item():.3f}\")\n",
    "        \n",
    "predicted = model(x).detach().numpy()\n",
    "plt.plot(x_numpy, y_numpy, 'ro')\n",
    "plt.plot(x_numpy, predicted, 'b')\n",
    "plt.show()"
   ]
  },
  {
   "attachments": {},
   "cell_type": "markdown",
   "metadata": {},
   "source": [
    "### Logestic regression"
   ]
  },
  {
   "cell_type": "code",
   "execution_count": 3,
   "metadata": {},
   "outputs": [
    {
     "name": "stdout",
     "output_type": "stream",
     "text": [
      "epoch: 0, loss = 0.9197\n",
      "epoch: 10, loss = 0.6674\n",
      "epoch: 20, loss = 0.5268\n",
      "epoch: 30, loss = 0.4415\n",
      "epoch: 40, loss = 0.3849\n",
      "epoch: 50, loss = 0.3445\n",
      "epoch: 60, loss = 0.3142\n",
      "epoch: 70, loss = 0.2905\n",
      "epoch: 80, loss = 0.2714\n",
      "epoch: 90, loss = 0.2556\n",
      "accuracy : 90.64%\n"
     ]
    }
   ],
   "source": [
    "import torch\n",
    "import torch.nn as nn\n",
    "import numpy as np\n",
    "from sklearn import datasets\n",
    "from sklearn.preprocessing import StandardScaler\n",
    "from sklearn.model_selection import train_test_split\n",
    "from tqdm import tqdm \n",
    "\n",
    "\n",
    "dataset = datasets.load_breast_cancer()\n",
    "\n",
    "x, y = dataset.data, dataset.target\n",
    "\n",
    "n_samples, n_features = x.shape\n",
    "\n",
    "x_train, x_test, y_train, y_test = train_test_split(x,y, test_size=0.3, random_state=1234)\n",
    "\n",
    "sc = StandardScaler()\n",
    "\n",
    "x_train = sc.fit_transform(x_train)\n",
    "x_test = sc.fit_transform(x_test)\n",
    "\n",
    "x_train = torch.from_numpy(x_train.astype(np.float32))\n",
    "x_test = torch.from_numpy(x_test.astype(np.float32))\n",
    "y_train = torch.from_numpy(y_train.astype(np.float32))\n",
    "y_test = torch.from_numpy(y_test.astype(np.float32))\n",
    "\n",
    "y_train = y_train.view(y_train.shape[0],1)\n",
    "y_test = y_test.view(y_test.shape[0],1)\n",
    "\n",
    "class LogesticRegression(nn.Module):\n",
    "    def __init__(self,n_input_feature):\n",
    "        super(LogesticRegression, self).__init__()\n",
    "        self.linear = nn.Linear(n_input_feature, 1)\n",
    "        \n",
    "    def forward(self, x):\n",
    "        y_pred  = torch.sigmoid(self.linear(x))\n",
    "        \n",
    "        return y_pred\n",
    "    \n",
    "\n",
    "model = LogesticRegression(n_features)\n",
    "\n",
    "\n",
    "learning_rate = 0.01\n",
    "epochs = 100\n",
    "\n",
    "criterion = nn.BCELoss()\n",
    "optimizer = torch.optim.SGD(model.parameters(), lr=learning_rate)\n",
    "\n",
    "for epoch in range(epochs):\n",
    "    y_pred = model(x_train)\n",
    "    loss = criterion(y_pred, y_train)\n",
    "    \n",
    "    loss.backward()\n",
    "    optimizer.step()\n",
    "    optimizer.zero_grad()\n",
    "    \n",
    "    if epoch % 10 == 0:\n",
    "        print(f\"epoch: {epoch}, loss = {loss.item():.4f}\")\n",
    "        \n",
    "\n",
    "with torch.no_grad():\n",
    "    y_pred = model(x_test)\n",
    "    y_pred_cls = y_pred.round()\n",
    "    acc = y_pred_cls.eq(y_test).sum() / float(y_test.shape[0])\n",
    "    print(f\"accuracy : {acc * 100 :.2f}%\")"
   ]
  },
  {
   "cell_type": "code",
   "execution_count": null,
   "metadata": {},
   "outputs": [],
   "source": []
  }
 ],
 "metadata": {
  "kernelspec": {
   "display_name": "python-env",
   "language": "python",
   "name": "python3"
  },
  "language_info": {
   "codemirror_mode": {
    "name": "ipython",
    "version": 3
   },
   "file_extension": ".py",
   "mimetype": "text/x-python",
   "name": "python",
   "nbconvert_exporter": "python",
   "pygments_lexer": "ipython3",
   "version": "3.10.12"
  },
  "orig_nbformat": 4
 },
 "nbformat": 4,
 "nbformat_minor": 2
}
